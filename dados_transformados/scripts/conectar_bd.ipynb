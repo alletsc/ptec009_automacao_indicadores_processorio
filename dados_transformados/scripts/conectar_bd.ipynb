{
 "cells": [
  {
   "cell_type": "code",
   "execution_count": null,
   "metadata": {
    "collapsed": true,
    "pycharm": {
     "is_executing": true
    }
   },
   "outputs": [],
   "source": [
    "import sqlalchemy\n",
    "import pandas as pd\n",
    "import os\n",
    "import pymysql\n",
    "from sqlalchemy import create_engine\n",
    "from sqlalchemy import inspect"
   ]
  },
  {
   "cell_type": "code",
   "execution_count": 31,
   "metadata": {
    "collapsed": false
   },
   "outputs": [],
   "source": [
    "# conectar no mysql com sqlalchemy\n",
    "server = 'localhost'\n",
    "database = 'processo_rio'\n",
    "username = 'root'\n",
    "password = input(\"Digite a senha do mysql: \")\n",
    "driver = 'mysql+pymysql'\n",
    "connection_string = f'{driver}://{username}:{password}@{server}/{database}'\n",
    "engine = sqlalchemy.create_engine(connection_string)\n",
    "insp = inspect(engine)"
   ]
  },
  {
   "cell_type": "code",
   "execution_count": 32,
   "metadata": {},
   "outputs": [
    {
     "name": "stdout",
     "output_type": "stream",
     "text": [
      "['assuntos', 'assuntos_pgm', 'base', 'base_testes', 'codigo_sicop', 'expedientes_arqs2296', 'processos_arqs2001', 'sici']\n"
     ]
    }
   ],
   "source": [
    "# listar todas as tabelas nobanco de dados get_table_names()\n",
    "print(inspect(engine).get_table_names())"
   ]
  },
  {
   "cell_type": "code",
   "execution_count": 33,
   "metadata": {},
   "outputs": [],
   "source": [
    "# # inserir dados na tabela\n",
    "# df = pd.read_csv('dados.csv')\n",
    "# df.to_sql('dados', con=engine, if_exists='append', index=False)"
   ]
  },
  {
   "cell_type": "code",
   "execution_count": null,
   "metadata": {},
   "outputs": [],
   "source": [
    "# exibir tipos de dados da tabela expedientes_arqs2296\n",
    "inspect(engine).get_columns('expedientes_arqs2296')\n",
    "# mostrar resultado como dataframe\n",
    "df = pd.read_sql_table('expedientes_arqs2296', con=engine)\n",
    "# exibir tipos de dados da tabela expedientes_arqs2296 criar um dataframe\n",
    "inspect(engine).get_columns('expedientes_arqs2296')"
   ]
  },
  {
   "cell_type": "code",
   "execution_count": null,
   "metadata": {},
   "outputs": [],
   "source": []
  }
 ],
 "metadata": {
  "kernelspec": {
   "display_name": "Python 3.9.8 64-bit",
   "language": "python",
   "name": "python3"
  },
  "language_info": {
   "codemirror_mode": {
    "name": "ipython",
    "version": 3
   },
   "file_extension": ".py",
   "mimetype": "text/x-python",
   "name": "python",
   "nbconvert_exporter": "python",
   "pygments_lexer": "ipython3",
   "version": "3.9.8"
  },
  "vscode": {
   "interpreter": {
    "hash": "412e89f51cc52c4d2836f07b521a564c054a6f1955505e0188e4b24a5825bfd2"
   }
  }
 },
 "nbformat": 4,
 "nbformat_minor": 0
}
