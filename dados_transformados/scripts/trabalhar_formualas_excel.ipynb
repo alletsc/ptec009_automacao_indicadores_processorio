{
 "cells": [
  {
   "cell_type": "code",
   "execution_count": 1,
   "metadata": {},
   "outputs": [],
   "source": [
    "import sqlalchemy\n",
    "import pandas as pd\n",
    "import os\n",
    "import pymysql\n",
    "from sqlalchemy import create_engine\n",
    "from sqlalchemy import inspect"
   ]
  },
  {
   "cell_type": "code",
   "execution_count": 2,
   "metadata": {},
   "outputs": [
    {
     "data": {
      "text/plain": [
       "['assuntos',\n",
       " 'assuntos_pgm',\n",
       " 'base',\n",
       " 'base_testes',\n",
       " 'codigo_sicop',\n",
       " 'db_documentos_2',\n",
       " 'expedientes_arqs2296',\n",
       " 'processos_arqs2001',\n",
       " 'sici']"
      ]
     },
     "execution_count": 2,
     "metadata": {},
     "output_type": "execute_result"
    }
   ],
   "source": [
    "# conectar no mysql com sqlalchemy\n",
    "server = 'localhost'\n",
    "database = 'processo_rio'\n",
    "username = 'root'\n",
    "password = input(\"Digite a senha do mysql: \")\n",
    "driver = 'mysql+pymysql'\n",
    "connection_string = f'{driver}://{username}:{password}@{server}/{database}'\n",
    "engine = sqlalchemy.create_engine(connection_string)\n",
    "insp = inspect(engine)\n",
    "\n",
    "insp.get_table_names()"
   ]
  },
  {
   "cell_type": "code",
   "execution_count": 5,
   "metadata": {},
   "outputs": [],
   "source": [
    "from concurrent.futures import process\n",
    "\n",
    "\n",
    "assuntos = pd.read_sql_table('assuntos', engine)\n",
    "assuntos_pgm = pd.read_sql_table('assuntos_pgm', engine)\n",
    "codigo_sicop = pd.read_sql_table('codigo_sicop', engine)\n",
    "expedientes = pd.read_sql_table('expedientes_arqs2296', engine)\n",
    "processos = pd.read_sql_table('processos_arqs2001', engine)\n",
    "sici = pd.read_sql_table('sici', engine)"
   ]
  },
  {
   "cell_type": "code",
   "execution_count": 6,
   "metadata": {},
   "outputs": [
    {
     "data": {
      "text/html": [
       "<div>\n",
       "<style scoped>\n",
       "    .dataframe tbody tr th:only-of-type {\n",
       "        vertical-align: middle;\n",
       "    }\n",
       "\n",
       "    .dataframe tbody tr th {\n",
       "        vertical-align: top;\n",
       "    }\n",
       "\n",
       "    .dataframe thead th {\n",
       "        text-align: right;\n",
       "    }\n",
       "</style>\n",
       "<table border=\"1\" class=\"dataframe\">\n",
       "  <thead>\n",
       "    <tr style=\"text-align: right;\">\n",
       "      <th></th>\n",
       "      <th>tipo</th>\n",
       "      <th>orgao_transcritor</th>\n",
       "      <th>codigo_sici</th>\n",
       "      <th>nome_orgao</th>\n",
       "      <th>numero_processo</th>\n",
       "      <th>tipo_processo</th>\n",
       "      <th>numero_documento_identificador</th>\n",
       "      <th>tipo_documento_ identificador</th>\n",
       "      <th>descricao_ tipo_ documento_ identificador</th>\n",
       "      <th>requerente</th>\n",
       "      <th>data_processo_fim</th>\n",
       "      <th>codigo_assunto</th>\n",
       "      <th>transcritor_assunto</th>\n",
       "      <th>digital</th>\n",
       "      <th>descricao_assunto</th>\n",
       "      <th>data_cadastro_fim</th>\n",
       "      <th>Q</th>\n",
       "      <th>R</th>\n",
       "      <th>codigo_real</th>\n",
       "    </tr>\n",
       "  </thead>\n",
       "  <tbody>\n",
       "  </tbody>\n",
       "</table>\n",
       "</div>"
      ],
      "text/plain": [
       "Empty DataFrame\n",
       "Columns: [tipo, orgao_transcritor, codigo_sici, nome_orgao, numero_processo, tipo_processo, numero_documento_identificador, tipo_documento_ identificador, descricao_ tipo_ documento_ identificador, requerente, data_processo_fim, codigo_assunto, transcritor_assunto, digital, descricao_assunto, data_cadastro_fim, Q, R, codigo_real]\n",
       "Index: []"
      ]
     },
     "execution_count": 6,
     "metadata": {},
     "output_type": "execute_result"
    }
   ],
   "source": [
    "base_testes = pd.read_sql_table('base_testes', engine)\n",
    "base_testes.head()"
   ]
  },
  {
   "cell_type": "code",
   "execution_count": null,
   "metadata": {},
   "outputs": [],
   "source": []
  }
 ],
 "metadata": {
  "kernelspec": {
   "display_name": "Python 3.9.8 64-bit",
   "language": "python",
   "name": "python3"
  },
  "language_info": {
   "codemirror_mode": {
    "name": "ipython",
    "version": 3
   },
   "file_extension": ".py",
   "mimetype": "text/x-python",
   "name": "python",
   "nbconvert_exporter": "python",
   "pygments_lexer": "ipython3",
   "version": "3.9.13"
  },
  "orig_nbformat": 4,
  "vscode": {
   "interpreter": {
    "hash": "412e89f51cc52c4d2836f07b521a564c054a6f1955505e0188e4b24a5825bfd2"
   }
  }
 },
 "nbformat": 4,
 "nbformat_minor": 2
}
