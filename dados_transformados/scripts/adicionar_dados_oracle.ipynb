{
 "cells": [
  {
   "cell_type": "code",
   "execution_count": 1,
   "metadata": {},
   "outputs": [],
   "source": [
    "import sqlalchemy\n",
    "import pandas as pd\n",
    "import os\n",
    "import pymysql\n",
    "from sqlalchemy import create_engine\n",
    "from sqlalchemy import inspect"
   ]
  },
  {
   "cell_type": "code",
   "execution_count": 2,
   "metadata": {},
   "outputs": [],
   "source": [
    "# conectar no mysql com sqlalchemy\n",
    "server = 'localhost'\n",
    "database = 'processo_rio'\n",
    "username = 'root'\n",
    "password = input(\"Digite a senha do mysql: \")\n",
    "driver = 'mysql+pymysql'\n",
    "connection_string = f'{driver}://{username}:{password}@{server}/{database}'\n",
    "engine = sqlalchemy.create_engine(connection_string)\n",
    "insp = inspect(engine)"
   ]
  },
  {
   "cell_type": "code",
   "execution_count": 5,
   "metadata": {},
   "outputs": [
    {
     "data": {
      "text/html": [
       "<div>\n",
       "<style scoped>\n",
       "    .dataframe tbody tr th:only-of-type {\n",
       "        vertical-align: middle;\n",
       "    }\n",
       "\n",
       "    .dataframe tbody tr th {\n",
       "        vertical-align: top;\n",
       "    }\n",
       "\n",
       "    .dataframe thead th {\n",
       "        text-align: right;\n",
       "    }\n",
       "</style>\n",
       "<table border=\"1\" class=\"dataframe\">\n",
       "  <thead>\n",
       "    <tr style=\"text-align: right;\">\n",
       "      <th></th>\n",
       "      <th>SEMANA</th>\n",
       "      <th>NOME_ORGAO</th>\n",
       "      <th>ESPECIE</th>\n",
       "      <th>UPPER(MODELO)</th>\n",
       "      <th>UPPER(ASSUNTO)</th>\n",
       "      <th>TOTAL_DOC</th>\n",
       "    </tr>\n",
       "  </thead>\n",
       "  <tbody>\n",
       "    <tr>\n",
       "      <th>0</th>\n",
       "      <td>23/10/22</td>\n",
       "      <td>GM-RIO</td>\n",
       "      <td>Expediente</td>\n",
       "      <td>DESPACHO</td>\n",
       "      <td>ABASTECIMENTO E MANUTENÇÃO DE VEÍCULOS</td>\n",
       "      <td>1</td>\n",
       "    </tr>\n",
       "    <tr>\n",
       "      <th>1</th>\n",
       "      <td>23/10/22</td>\n",
       "      <td>GM-RIO</td>\n",
       "      <td>Expediente</td>\n",
       "      <td>DESPACHO</td>\n",
       "      <td>ABASTECIMENTO E MANUTENÇÃO DE VEÍCULOS</td>\n",
       "      <td>1</td>\n",
       "    </tr>\n",
       "    <tr>\n",
       "      <th>2</th>\n",
       "      <td>23/10/22</td>\n",
       "      <td>GM-RIO</td>\n",
       "      <td>Expediente</td>\n",
       "      <td>DESPACHO</td>\n",
       "      <td>ABASTECIMENTO E MANUTENÇÃO DE VEÍCULOS</td>\n",
       "      <td>1</td>\n",
       "    </tr>\n",
       "    <tr>\n",
       "      <th>3</th>\n",
       "      <td>23/10/22</td>\n",
       "      <td>SME</td>\n",
       "      <td>Expediente</td>\n",
       "      <td>DESPACHO</td>\n",
       "      <td>SISTEMA DESCENTRALIZADO DE PAGAMENTO</td>\n",
       "      <td>1</td>\n",
       "    </tr>\n",
       "    <tr>\n",
       "      <th>4</th>\n",
       "      <td>23/10/22</td>\n",
       "      <td>SMS</td>\n",
       "      <td>Expediente</td>\n",
       "      <td>DESPACHO</td>\n",
       "      <td>RELAÇÃO INTERINSTITUCIONAL. SOLICITAÇÃO/DENÚNC...</td>\n",
       "      <td>1</td>\n",
       "    </tr>\n",
       "    <tr>\n",
       "      <th>...</th>\n",
       "      <td>...</td>\n",
       "      <td>...</td>\n",
       "      <td>...</td>\n",
       "      <td>...</td>\n",
       "      <td>...</td>\n",
       "      <td>...</td>\n",
       "    </tr>\n",
       "    <tr>\n",
       "      <th>1162537</th>\n",
       "      <td>19/01/21</td>\n",
       "      <td>SMFP</td>\n",
       "      <td>Expediente</td>\n",
       "      <td>DESPACHO</td>\n",
       "      <td>CRÉDITO  SUPLEMENTAR</td>\n",
       "      <td>1</td>\n",
       "    </tr>\n",
       "    <tr>\n",
       "      <th>1162538</th>\n",
       "      <td>19/01/21</td>\n",
       "      <td>SMFP</td>\n",
       "      <td>Expediente</td>\n",
       "      <td>DESPACHO</td>\n",
       "      <td>CRÉDITO  SUPLEMENTAR</td>\n",
       "      <td>1</td>\n",
       "    </tr>\n",
       "    <tr>\n",
       "      <th>1162539</th>\n",
       "      <td>19/01/21</td>\n",
       "      <td>SMFP</td>\n",
       "      <td>Expediente</td>\n",
       "      <td>DESPACHO</td>\n",
       "      <td>CRÉDITO  SUPLEMENTAR</td>\n",
       "      <td>1</td>\n",
       "    </tr>\n",
       "    <tr>\n",
       "      <th>1162540</th>\n",
       "      <td>06/01/21</td>\n",
       "      <td>SMFP</td>\n",
       "      <td>Expediente</td>\n",
       "      <td>DESPACHO</td>\n",
       "      <td>CRÉDITO  SUPLEMENTAR</td>\n",
       "      <td>1</td>\n",
       "    </tr>\n",
       "    <tr>\n",
       "      <th>1162541</th>\n",
       "      <td>06/01/21</td>\n",
       "      <td>SMFP</td>\n",
       "      <td>Expediente</td>\n",
       "      <td>DESPACHO</td>\n",
       "      <td>CRÉDITO  SUPLEMENTAR</td>\n",
       "      <td>1</td>\n",
       "    </tr>\n",
       "  </tbody>\n",
       "</table>\n",
       "<p>1162542 rows × 6 columns</p>\n",
       "</div>"
      ],
      "text/plain": [
       "           SEMANA NOME_ORGAO     ESPECIE UPPER(MODELO)  \\\n",
       "0        23/10/22     GM-RIO  Expediente      DESPACHO   \n",
       "1        23/10/22     GM-RIO  Expediente      DESPACHO   \n",
       "2        23/10/22     GM-RIO  Expediente      DESPACHO   \n",
       "3        23/10/22        SME  Expediente      DESPACHO   \n",
       "4        23/10/22        SMS  Expediente      DESPACHO   \n",
       "...           ...        ...         ...           ...   \n",
       "1162537  19/01/21       SMFP  Expediente      DESPACHO   \n",
       "1162538  19/01/21       SMFP  Expediente      DESPACHO   \n",
       "1162539  19/01/21       SMFP  Expediente      DESPACHO   \n",
       "1162540  06/01/21       SMFP  Expediente      DESPACHO   \n",
       "1162541  06/01/21       SMFP  Expediente      DESPACHO   \n",
       "\n",
       "                                            UPPER(ASSUNTO)  TOTAL_DOC  \n",
       "0                   ABASTECIMENTO E MANUTENÇÃO DE VEÍCULOS          1  \n",
       "1                   ABASTECIMENTO E MANUTENÇÃO DE VEÍCULOS          1  \n",
       "2                   ABASTECIMENTO E MANUTENÇÃO DE VEÍCULOS          1  \n",
       "3                     SISTEMA DESCENTRALIZADO DE PAGAMENTO          1  \n",
       "4        RELAÇÃO INTERINSTITUCIONAL. SOLICITAÇÃO/DENÚNC...          1  \n",
       "...                                                    ...        ...  \n",
       "1162537                               CRÉDITO  SUPLEMENTAR          1  \n",
       "1162538                               CRÉDITO  SUPLEMENTAR          1  \n",
       "1162539                               CRÉDITO  SUPLEMENTAR          1  \n",
       "1162540                               CRÉDITO  SUPLEMENTAR          1  \n",
       "1162541                               CRÉDITO  SUPLEMENTAR          1  \n",
       "\n",
       "[1162542 rows x 6 columns]"
      ]
     },
     "execution_count": 5,
     "metadata": {},
     "output_type": "execute_result"
    }
   ],
   "source": [
    "# criar tabela no banco process_rio\n",
    "df = pd.read_csv('G:\\\\Outros computadores\\\\acer\\\\gits\\\\ptec009_automacao_indicadores_processorio\\\\dados_originais\\\\scripst_sql\\\\db_documentos_2.csv')\n",
    "df\n"
   ]
  },
  {
   "cell_type": "code",
   "execution_count": 6,
   "metadata": {},
   "outputs": [
    {
     "data": {
      "text/plain": [
       "1162542"
      ]
     },
     "execution_count": 6,
     "metadata": {},
     "output_type": "execute_result"
    }
   ],
   "source": [
    "# criar tabela com df no banco\n",
    "df.to_sql('db_documentos_2', con=engine, if_exists='replace', index=False)"
   ]
  },
  {
   "cell_type": "code",
   "execution_count": 3,
   "metadata": {},
   "outputs": [
    {
     "data": {
      "text/plain": [
       "['assuntos',\n",
       " 'assuntos_pgm',\n",
       " 'base',\n",
       " 'base_testes',\n",
       " 'codigo_sicop',\n",
       " 'db_documentos_2',\n",
       " 'expedientes_arqs2296',\n",
       " 'processos_arqs2001',\n",
       " 'sici']"
      ]
     },
     "execution_count": 3,
     "metadata": {},
     "output_type": "execute_result"
    }
   ],
   "source": [
    "# verificar se a tabela foi criada\n",
    "insp.get_table_names()"
   ]
  }
 ],
 "metadata": {
  "kernelspec": {
   "display_name": "Python 3.9.8 64-bit",
   "language": "python",
   "name": "python3"
  },
  "language_info": {
   "codemirror_mode": {
    "name": "ipython",
    "version": 3
   },
   "file_extension": ".py",
   "mimetype": "text/x-python",
   "name": "python",
   "nbconvert_exporter": "python",
   "pygments_lexer": "ipython3",
   "version": "3.9.8"
  },
  "orig_nbformat": 4,
  "vscode": {
   "interpreter": {
    "hash": "412e89f51cc52c4d2836f07b521a564c054a6f1955505e0188e4b24a5825bfd2"
   }
  }
 },
 "nbformat": 4,
 "nbformat_minor": 2
}
